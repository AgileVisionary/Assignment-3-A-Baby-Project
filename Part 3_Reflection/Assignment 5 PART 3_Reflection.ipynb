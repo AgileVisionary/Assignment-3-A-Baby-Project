{
 "cells": [
  {
   "cell_type": "markdown",
   "id": "8d32a7c2-a1bb-4ea5-ba7c-e0fee7321ae9",
   "metadata": {},
   "source": [
    "## Reflection on Project\n",
    "\n",
    "### File Structure\n",
    "![File Structure](Assignment 5 Screenshot.jpg)\n",
    "\n",
    "### Link to GitHub Project\n",
    "[GitHub Project Link](https://github.com/AgileVisionary/Assignment-3-A-Baby-Project.git)\n"
   ]
  },
  {
   "cell_type": "markdown",
   "id": "df22801a-927e-4ea6-9588-f56d1c01dd95",
   "metadata": {},
   "source": []
  },
  {
   "cell_type": "markdown",
   "id": "d75c6a4f-2c97-447f-a71b-0dfa360908f6",
   "metadata": {},
   "source": [
    "# Superheroes and Publishers Dataframes"
   ]
  },
  {
   "cell_type": "code",
   "execution_count": 4,
   "id": "9a46d3fb-d613-44ad-a6d2-dfbdebc0f0e6",
   "metadata": {},
   "outputs": [
    {
     "name": "stdout",
     "output_type": "stream",
     "text": [
      "Superheroes Dataframe:\n",
      "          Name Alignment Publisher\n",
      "0  Spider-Man      Good    Marvel\n",
      "1    Iron Man      Good    Marvel\n",
      "2        Thor      Good    Marvel\n",
      "3     Magneto       Bad    Marvel\n",
      "4     Magneto   Neutral    Marvel\n",
      "\n",
      "Publishers Dataframe:\n",
      "   Publisher  Founded\n",
      "0    Marvel     1939\n",
      "1        DC     1934\n",
      "2    Marvel     2025\n"
     ]
    }
   ],
   "source": [
    "import pandas as pd\n",
    "\n",
    "superheroes = pd.DataFrame({\n",
    "    'Name': ['Spider-Man', 'Iron Man', 'Thor', 'Magneto'],\n",
    "    'Alignment': ['Good', 'Good', 'Good', 'Bad'],\n",
    "    'Publisher': ['Marvel', 'Marvel', 'Marvel', 'Marvel']\n",
    "})\n",
    "\n",
    "publishers = pd.DataFrame({ # Publishers dataframe\n",
    "    'Publisher': ['Marvel', 'DC'],\n",
    "    'Founded': [1939, 1934]\n",
    "})\n",
    "\n",
    "\n",
    "new_superhero = pd.DataFrame({'Name': ['Magneto'], 'Alignment': ['Neutral'], 'Publisher': ['Marvel']}) # Adding new entries.\n",
    "new_publisher = pd.DataFrame({'Publisher': ['Marvel'], 'Founded': [2025]})\n",
    "\n",
    "superheroes = pd.concat([superheroes, new_superhero], ignore_index=True) # Adding discrepancies using concat.\n",
    "publishers = pd.concat([publishers, new_publisher], ignore_index=True)\n",
    "\n",
    "print(\"Superheroes Dataframe:\\n\", superheroes)\n",
    "print(\"\\nPublishers Dataframe:\\n\", publishers)\n"
   ]
  },
  {
   "cell_type": "markdown",
   "id": "b45bbf34-c4ab-4e80-bccf-6c7a9e88c7c4",
   "metadata": {},
   "source": [
    "# Question 1 & 2: What happens with each of the variables in pd.merge?  Change each one at a time:\n",
    "pd.merge(\n",
    "    left: 'DataFrame | Series',\n",
    "    right: 'DataFrame | Series',\n",
    "    how: 'MergeHow' = 'inner',\n",
    "    on: 'IndexLabel | AnyArrayLike | None' = None,\n",
    "    left_on: 'IndexLabel | AnyArrayLike | None' = None,\n",
    "    right_on: 'IndexLabel | AnyArrayLike | None' = None,\n",
    "    left_index: 'bool' = False,\n",
    "    right_index: 'bool' = False,\n",
    "    sort: 'bool' = False,\n",
    "    suffixes: 'Suffixes' = ('_x', '_y'),\n",
    "    copy: 'bool | None' = None,\n",
    "    indicator: 'str | bool' = False,\n",
    "    validate: 'str | None' = None,\n",
    ") -> 'DataFrame'\n"
   ]
  },
  {
   "cell_type": "code",
   "execution_count": 6,
   "id": "e492bce3-27b9-4f22-9666-36f418c307d5",
   "metadata": {},
   "outputs": [
    {
     "name": "stdout",
     "output_type": "stream",
     "text": [
      "Inner Merge:\n",
      "          Name Alignment Publisher  Founded\n",
      "0  Spider-Man      Good    Marvel     1939\n",
      "1  Spider-Man      Good    Marvel     2025\n",
      "2    Iron Man      Good    Marvel     1939\n",
      "3    Iron Man      Good    Marvel     2025\n",
      "4        Thor      Good    Marvel     1939\n",
      "5        Thor      Good    Marvel     2025\n",
      "6     Magneto       Bad    Marvel     1939\n",
      "7     Magneto       Bad    Marvel     2025\n",
      "8     Magneto   Neutral    Marvel     1939\n",
      "9     Magneto   Neutral    Marvel     2025\n"
     ]
    }
   ],
   "source": [
    "# Inner join on 'Publisher'\n",
    "inner_merge = pd.merge(superheroes, publishers, on='Publisher', how='inner')\n",
    "print(\"Inner Merge:\\n\", inner_merge)"
   ]
  },
  {
   "cell_type": "markdown",
   "id": "b1b83387-330b-4747-b76b-93e65e575c79",
   "metadata": {},
   "source": [
    "### Explaination: \n",
    "An inner join creates a dataframe that consists solely of rows where the Publisher values are identical in both the superheroes and publishers dataframes. This type of join retains only the common entries. Consequently, the new entries for Magneto and the duplicate entry for Marvel are included because their Publisher values align."
   ]
  },
  {
   "cell_type": "code",
   "execution_count": 8,
   "id": "2709d8c5-eb16-4191-8419-286e8a2cd1f4",
   "metadata": {},
   "outputs": [
    {
     "name": "stdout",
     "output_type": "stream",
     "text": [
      "\n",
      "Left Merge:\n",
      "          Name Alignment Publisher  Founded\n",
      "0  Spider-Man      Good    Marvel     1939\n",
      "1  Spider-Man      Good    Marvel     2025\n",
      "2    Iron Man      Good    Marvel     1939\n",
      "3    Iron Man      Good    Marvel     2025\n",
      "4        Thor      Good    Marvel     1939\n",
      "5        Thor      Good    Marvel     2025\n",
      "6     Magneto       Bad    Marvel     1939\n",
      "7     Magneto       Bad    Marvel     2025\n",
      "8     Magneto   Neutral    Marvel     1939\n",
      "9     Magneto   Neutral    Marvel     2025\n"
     ]
    }
   ],
   "source": [
    "# Left join on 'Publisher'\n",
    "left_merge = pd.merge(superheroes, publishers, on='Publisher', how='left')\n",
    "print(\"\\nLeft Merge:\\n\", left_merge)\n"
   ]
  },
  {
   "cell_type": "markdown",
   "id": "4400417b-17ea-4c23-875d-b1c8041afc0d",
   "metadata": {},
   "source": [
    "### Explaination:\n",
    "A left join includes all the rows from the superheroes dataframe and the matching rows from the publishers dataframe. If a row in the superheroes dataframe doesn't have a corresponding entry in the publishers dataframe, the resulting dataframe will still retain the row from superheroes, but with NaN values for the columns from publishers.\n",
    "\n",
    "Because there are two matching entries for Marvel in the publishers dataframe, the merged dataframe will feature duplicate rows for Marvel."
   ]
  },
  {
   "cell_type": "code",
   "execution_count": 10,
   "id": "f3063c71-ad73-49a1-a566-c5402c1a5bb9",
   "metadata": {},
   "outputs": [
    {
     "name": "stdout",
     "output_type": "stream",
     "text": [
      "\n",
      "Right Merge:\n",
      "           Name Alignment Publisher  Founded\n",
      "0   Spider-Man      Good    Marvel     1939\n",
      "1     Iron Man      Good    Marvel     1939\n",
      "2         Thor      Good    Marvel     1939\n",
      "3      Magneto       Bad    Marvel     1939\n",
      "4      Magneto   Neutral    Marvel     1939\n",
      "5          NaN       NaN        DC     1934\n",
      "6   Spider-Man      Good    Marvel     2025\n",
      "7     Iron Man      Good    Marvel     2025\n",
      "8         Thor      Good    Marvel     2025\n",
      "9      Magneto       Bad    Marvel     2025\n",
      "10     Magneto   Neutral    Marvel     2025\n"
     ]
    }
   ],
   "source": [
    "# Right join on 'Publisher'\n",
    "right_merge = pd.merge(superheroes, publishers, on='Publisher', how='right')\n",
    "print(\"\\nRight Merge:\\n\", right_merge)"
   ]
  },
  {
   "cell_type": "markdown",
   "id": "f224c5b8-c3f3-4e2a-9d00-91f23257adae",
   "metadata": {},
   "source": [
    "### Explaination:\n",
    "A right join includes all the rows from the publishers dataframe and the matching rows from the superheroes dataframe. If a row in the publishers dataframe doesn't have a corresponding entry in the superheroes dataframe, the resulting dataframe will still retain the row from publishers, but with NaN values for the columns from superheroes."
   ]
  },
  {
   "cell_type": "code",
   "execution_count": 12,
   "id": "74285993-c636-444a-b8b0-7ec2cdc59fb5",
   "metadata": {},
   "outputs": [
    {
     "name": "stdout",
     "output_type": "stream",
     "text": [
      "\n",
      "Outer Merge:\n",
      "           Name Alignment Publisher  Founded\n",
      "0          NaN       NaN        DC     1934\n",
      "1   Spider-Man      Good    Marvel     1939\n",
      "2   Spider-Man      Good    Marvel     2025\n",
      "3     Iron Man      Good    Marvel     1939\n",
      "4     Iron Man      Good    Marvel     2025\n",
      "5         Thor      Good    Marvel     1939\n",
      "6         Thor      Good    Marvel     2025\n",
      "7      Magneto       Bad    Marvel     1939\n",
      "8      Magneto       Bad    Marvel     2025\n",
      "9      Magneto   Neutral    Marvel     1939\n",
      "10     Magneto   Neutral    Marvel     2025\n"
     ]
    }
   ],
   "source": [
    "# Outer join on 'Publisher'\n",
    "outer_merge = pd.merge(superheroes, publishers, on='Publisher', how='outer')\n",
    "print(\"\\nOuter Merge:\\n\", outer_merge)"
   ]
  },
  {
   "cell_type": "markdown",
   "id": "dd225bcf-0c16-49ae-b722-5bc0984eda9d",
   "metadata": {},
   "source": [
    "### Explaination:\n",
    "An outer join returns all rows from both dataframes, with NaN values for the columns where there are no matches. This type of join includes all the data from both dataframes, filling in gaps with NaN."
   ]
  },
  {
   "cell_type": "code",
   "execution_count": 14,
   "id": "99ce3939-9596-4ee5-a4c1-85b339279626",
   "metadata": {},
   "outputs": [],
   "source": [
    "# Merge using different columns (left_on and right_on)\n",
    "# For this example, we need to modify dataframes slightly to have different columns to join on\n",
    "superheroes2 = superheroes.rename(columns={'Publisher': 'Hero_Publisher'})\n",
    "publishers2 = publishers.rename(columns={'Publisher': 'Publisher_Name'})"
   ]
  },
  {
   "cell_type": "code",
   "execution_count": 15,
   "id": "28e9a5cc-7474-4365-b365-ffddd7c47e7a",
   "metadata": {},
   "outputs": [
    {
     "name": "stdout",
     "output_type": "stream",
     "text": [
      "\n",
      "Merge with Different Columns:\n",
      "          Name Alignment Hero_Publisher Publisher_Name  Founded\n",
      "0  Spider-Man      Good         Marvel         Marvel     1939\n",
      "1  Spider-Man      Good         Marvel         Marvel     2025\n",
      "2    Iron Man      Good         Marvel         Marvel     1939\n",
      "3    Iron Man      Good         Marvel         Marvel     2025\n",
      "4        Thor      Good         Marvel         Marvel     1939\n",
      "5        Thor      Good         Marvel         Marvel     2025\n",
      "6     Magneto       Bad         Marvel         Marvel     1939\n",
      "7     Magneto       Bad         Marvel         Marvel     2025\n",
      "8     Magneto   Neutral         Marvel         Marvel     1939\n",
      "9     Magneto   Neutral         Marvel         Marvel     2025\n"
     ]
    }
   ],
   "source": [
    "# Perform the merge\n",
    "diff_column_merge = pd.merge(superheroes2, publishers2, left_on='Hero_Publisher', right_on='Publisher_Name', how='inner')\n",
    "print(\"\\nMerge with Different Columns:\\n\", diff_column_merge)"
   ]
  },
  {
   "cell_type": "markdown",
   "id": "63dbc34b-2065-410f-a50d-fb561c1c8e46",
   "metadata": {},
   "source": [
    "### Explaination:\n",
    "This merge allows dataframes to be joined based on different columns. In this example, the Publisher column in the superheroes dataframe is renamed to Hero_Publisher, and the Publisher column in the publishers dataframe is renamed to Publisher_Name. An inner join is then performed using these newly named columns."
   ]
  },
  {
   "cell_type": "code",
   "execution_count": 17,
   "id": "c65f04d9-7b0a-4b55-8b93-fe04f911dafa",
   "metadata": {},
   "outputs": [],
   "source": [
    "# Merge on index\n",
    "superheroes.set_index('Name', inplace=True)\n",
    "publishers.set_index('Publisher', inplace=True)"
   ]
  },
  {
   "cell_type": "code",
   "execution_count": 18,
   "id": "862a1a8c-0dab-457c-a523-1d258f9994a3",
   "metadata": {},
   "outputs": [
    {
     "name": "stdout",
     "output_type": "stream",
     "text": [
      "\n",
      "Merge on Index:\n",
      " Empty DataFrame\n",
      "Columns: [Alignment, Publisher, Founded]\n",
      "Index: []\n"
     ]
    }
   ],
   "source": [
    "index_merge = pd.merge(superheroes, publishers, left_index=True, right_index=True, how='inner')\n",
    "print(\"\\nMerge on Index:\\n\", index_merge)"
   ]
  },
  {
   "cell_type": "markdown",
   "id": "2b8b8e35-e978-4bc3-8baa-c07973daadcf",
   "metadata": {},
   "source": [
    "### Explaination: \n",
    "By setting the Name column as the index in the superheroes dataframe and the Publisher column as the index in the publishers dataframe, the dataframes can be merged based on their indexes"
   ]
  },
  {
   "cell_type": "code",
   "execution_count": 20,
   "id": "4038209b-07e3-4ab8-9b3c-91b94264fa61",
   "metadata": {},
   "outputs": [
    {
     "name": "stdout",
     "output_type": "stream",
     "text": [
      "\n",
      "Sorted Merge:\n",
      "          Name Alignment Publisher  Founded\n",
      "0  Spider-Man      Good    Marvel     1939\n",
      "1  Spider-Man      Good    Marvel     2025\n",
      "2    Iron Man      Good    Marvel     1939\n",
      "3    Iron Man      Good    Marvel     2025\n",
      "4        Thor      Good    Marvel     1939\n",
      "5        Thor      Good    Marvel     2025\n",
      "6     Magneto       Bad    Marvel     1939\n",
      "7     Magneto       Bad    Marvel     2025\n",
      "8     Magneto   Neutral    Marvel     1939\n",
      "9     Magneto   Neutral    Marvel     2025\n"
     ]
    }
   ],
   "source": [
    "# Sorting the merged dataframe\n",
    "sorted_merge = pd.merge(superheroes.reset_index(), publishers.reset_index(), on='Publisher', how='inner', sort=True)\n",
    "print(\"\\nSorted Merge:\\n\", sorted_merge)"
   ]
  },
  {
   "cell_type": "markdown",
   "id": "27c8b11d-44e7-461d-89ac-235abdf11e08",
   "metadata": {},
   "source": [
    "### Explaination:\n",
    "The sort parameter enables sorting of the resulting dataframe by the join keys. In this example, the indexes were reset, and an inner join was performed with sorting enabled."
   ]
  },
  {
   "cell_type": "code",
   "execution_count": 22,
   "id": "dc8da701-ef24-4bc6-8206-bb3ade360abd",
   "metadata": {},
   "outputs": [
    {
     "name": "stdout",
     "output_type": "stream",
     "text": [
      "\n",
      "Merge with Suffixes:\n",
      "          Name Alignment Publisher  Founded\n",
      "0  Spider-Man      Good    Marvel     1939\n",
      "1  Spider-Man      Good    Marvel     2025\n",
      "2    Iron Man      Good    Marvel     1939\n",
      "3    Iron Man      Good    Marvel     2025\n",
      "4        Thor      Good    Marvel     1939\n",
      "5        Thor      Good    Marvel     2025\n",
      "6     Magneto       Bad    Marvel     1939\n",
      "7     Magneto       Bad    Marvel     2025\n",
      "8     Magneto   Neutral    Marvel     1939\n",
      "9     Magneto   Neutral    Marvel     2025\n"
     ]
    }
   ],
   "source": [
    "# Using suffixes\n",
    "suffix_merge = pd.merge(superheroes.reset_index(), publishers.reset_index(), on='Publisher', how='inner', suffixes=('_hero', '_pub'))\n",
    "print(\"\\nMerge with Suffixes:\\n\", suffix_merge)"
   ]
  },
  {
   "cell_type": "markdown",
   "id": "f3556025-6d82-4d26-8680-97f45c1bf6c8",
   "metadata": {},
   "source": [
    "### Explaination:\n",
    "The suffixes parameter allows for the specification of suffixes for overlapping column names. In this example, \"_hero\" was used for columns from the superheroes dataframe, and \"_pub\" was used for columns from the publishers dataframe."
   ]
  },
  {
   "cell_type": "code",
   "execution_count": 24,
   "id": "dfe0e1e3-6ab5-4452-ad71-b5d2b097d56a",
   "metadata": {},
   "outputs": [
    {
     "name": "stdout",
     "output_type": "stream",
     "text": [
      "\n",
      "Merge with Indicator Column:\n",
      "          Name Alignment Publisher  Founded _merge\n",
      "0  Spider-Man      Good    Marvel     1939   both\n",
      "1  Spider-Man      Good    Marvel     2025   both\n",
      "2    Iron Man      Good    Marvel     1939   both\n",
      "3    Iron Man      Good    Marvel     2025   both\n",
      "4        Thor      Good    Marvel     1939   both\n",
      "5        Thor      Good    Marvel     2025   both\n",
      "6     Magneto       Bad    Marvel     1939   both\n",
      "7     Magneto       Bad    Marvel     2025   both\n",
      "8     Magneto   Neutral    Marvel     1939   both\n",
      "9     Magneto   Neutral    Marvel     2025   both\n"
     ]
    }
   ],
   "source": [
    "# Adding an indicator column\n",
    "indicator_merge = pd.merge(superheroes.reset_index(), publishers.reset_index(), on='Publisher', how='inner', indicator=True)\n",
    "print(\"\\nMerge with Indicator Column:\\n\", indicator_merge)"
   ]
  },
  {
   "cell_type": "markdown",
   "id": "127766a1-b486-4031-98c8-ebe19fad3259",
   "metadata": {},
   "source": [
    "### Explaination:\n",
    "The indicator parameter adds a column to the output dataframe called \"_merge\" with information on the source of each row (left_only, right_only, both). This helps to identify the origin of each row in the merged dataframe."
   ]
  },
  {
   "cell_type": "markdown",
   "id": "e8a6dafe-0892-4872-909d-192ea7132641",
   "metadata": {},
   "source": [
    "# Question 3: How could you handle a Compound Key?  One example might be adding a 'movie' 'TV' or 'comic' column to the key to show the difference between Iron Man from the comics, and Iron Man from the MCU.  Is this even possible?\n"
   ]
  },
  {
   "cell_type": "code",
   "execution_count": 27,
   "id": "f6deb938-052c-4c24-a834-6473ad162fcb",
   "metadata": {},
   "outputs": [
    {
     "name": "stdout",
     "output_type": "stream",
     "text": [
      "Superheroes Dataframe with Compound Key:\n",
      "          Name Alignment Publisher  Media  media      compound_key\n",
      "0  Spider-Man      Good    Marvel  Comic  Comic  Spider-Man_Comic\n",
      "1    Iron Man      Good    Marvel  Comic  Comic    Iron Man_Comic\n",
      "2        Thor      Good    Marvel  Comic  Comic        Thor_Comic\n",
      "3     Magneto       Bad    Marvel  Comic  Comic     Magneto_Comic\n",
      "4    Iron Man   Neutral    Marvel  Movie  Movie    Iron Man_Movie\n"
     ]
    }
   ],
   "source": [
    "superheroes = pd.DataFrame({ # Superheroes dataframe\n",
    "    'Name': ['Spider-Man', 'Iron Man', 'Thor', 'Magneto', 'Iron Man'],\n",
    "    'Alignment': ['Good', 'Good', 'Good', 'Bad', 'Neutral'],\n",
    "    'Publisher': ['Marvel', 'Marvel', 'Marvel', 'Marvel', 'Marvel'],\n",
    "    'Media': ['Comic', 'Comic', 'Comic', 'Comic', 'Movie']\n",
    "})\n",
    "\n",
    "superheroes['media'] = ['Comic', 'Comic', 'Comic', 'Comic', 'Movie'] # Adding 'media' column to superheroes dataframe.\n",
    "\n",
    "superheroes['compound_key'] = superheroes['Name'] + '_' + superheroes['media'] # This step is creating compound key by combining 'Name' and 'media'\n",
    "print(\"Superheroes Dataframe with Compound Key:\\n\", superheroes)"
   ]
  },
  {
   "cell_type": "markdown",
   "id": "3bda9a65-9d4d-48f8-b2fb-8a019f069872",
   "metadata": {},
   "source": [
    "### Explanation: \n",
    "By creating a compound key using the Name and media columns, each row can be uniquely identified. This approach allows for more specific criteria during merges, such as distinguishing between different versions of a character across various media.\n"
   ]
  },
  {
   "cell_type": "markdown",
   "id": "2a47f16e-cda9-4d18-8bde-841165fa7c7e",
   "metadata": {},
   "source": [
    "# Question 4: What is the difference between a Join and a Merge? is there one?"
   ]
  },
  {
   "cell_type": "markdown",
   "id": "4bcd16b3-3131-43b0-8c06-926b34f7163a",
   "metadata": {},
   "source": [
    "### Explanation: \n",
    "In pandas, both join() and merge() are used to combine dataframes, but they differ in some aspects like the following below:\n",
    "\n",
    "merge(): Combines dataframes using a specified column or index, providing more flexibility as it allows merging on columns.\n",
    "\n",
    "join(): Combines dataframes using their indexes, making it simpler and primarily used for index-based joins.\n",
    "\n",
    "merge() offers greater versatility for complex merging operations, while join() is more straightforward for index-based merges.\n"
   ]
  },
  {
   "cell_type": "markdown",
   "id": "2312ae4c-496a-4adf-a276-f6ee88788e33",
   "metadata": {},
   "source": [
    "# Question 5: What do you think the default join or merge should be (Right, Inner, Anti, ect.)\n"
   ]
  },
  {
   "cell_type": "markdown",
   "id": "c1f909da-dd01-4f33-8354-9a298dfb26ae",
   "metadata": {},
   "source": [
    "### Explanation: \n",
    "The default type of join or merge in pandas should be an inner join. This ensures that only the rows with matching keys in both dataframes are included in the result. This is a sensible default as it avoids introducing NaN values and keeps the dataset consistent.\n"
   ]
  },
  {
   "cell_type": "code",
   "execution_count": null,
   "id": "828251d5-aec7-4f08-9d1e-0f73f2c47c10",
   "metadata": {},
   "outputs": [],
   "source": []
  }
 ],
 "metadata": {
  "kernelspec": {
   "display_name": "Python 3 (ipykernel)",
   "language": "python",
   "name": "python3"
  },
  "language_info": {
   "codemirror_mode": {
    "name": "ipython",
    "version": 3
   },
   "file_extension": ".py",
   "mimetype": "text/x-python",
   "name": "python",
   "nbconvert_exporter": "python",
   "pygments_lexer": "ipython3",
   "version": "3.12.7"
  }
 },
 "nbformat": 4,
 "nbformat_minor": 5
}
